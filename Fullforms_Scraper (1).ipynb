{
  "nbformat": 4,
  "nbformat_minor": 0,
  "metadata": {
    "colab": {
      "name": "Fullforms Scraper.ipynb",
      "provenance": [],
      "collapsed_sections": [],
      "toc_visible": true
    },
    "kernelspec": {
      "name": "python3",
      "display_name": "Python 3"
    },
    "language_info": {
      "name": "python"
    }
  },
  "cells": [
    {
      "cell_type": "code",
      "metadata": {
        "id": "U79KLuMqZ-Z8"
      },
      "source": [
        "from bs4 import BeautifulSoup #importing beautifulsoup from bs4\n",
        "import requests #request\n",
        "import pandas as pd #for creating a dataframe\n"
      ],
      "execution_count": null,
      "outputs": []
    },
    {
      "cell_type": "code",
      "metadata": {
        "colab": {
          "base_uri": "https://localhost:8080/"
        },
        "id": "kY-7GV9Fkd8I",
        "outputId": "a2df3b48-ade3-4547-ea55-e1998e1d5f14"
      },
      "source": [
        "base_site=\"https://fullforms.com/full-forms/A/1\" #considering the base site for extracting the headers\n",
        "response=requests.get(base_site) #extracting the header from the base site\n",
        "response\n",
        "html=response.content #getting the html content\n",
        "\n",
        "\n",
        "soup=BeautifulSoup(html,\"lxml\")#creating a parse tree\n",
        "\n",
        "table=soup.find(\"table\",{\"class\":\"index-table\"}) #getting the table content using table tag and class \n",
        "\n",
        "headers=[i.text.strip() for i in table.find_all(\"th\")] #looping on the table to extract the table headers into the list\n",
        "headers"
      ],
      "execution_count": null,
      "outputs": [
        {
          "output_type": "execute_result",
          "data": {
            "text/plain": [
              "['Popularity',\n",
              " 'Country/ Region',\n",
              " 'Term',\n",
              " 'Full Form | Definition | Meaning',\n",
              " 'Main Category',\n",
              " 'Subcategory']"
            ]
          },
          "metadata": {
            "tags": []
          },
          "execution_count": 4
        }
      ]
    },
    {
      "cell_type": "code",
      "metadata": {
        "colab": {
          "base_uri": "https://localhost:8080/"
        },
        "id": "PKyGSkIAaaDZ",
        "outputId": "fff961ff-fd01-4a1d-c3d1-b594abbc96e1"
      },
      "source": [
        "ord(\"a\")"
      ],
      "execution_count": null,
      "outputs": [
        {
          "output_type": "execute_result",
          "data": {
            "text/plain": [
              "97"
            ]
          },
          "metadata": {
            "tags": []
          },
          "execution_count": 1
        }
      ]
    },
    {
      "cell_type": "code",
      "metadata": {
        "id": "qdcx0ivIaAP8"
      },
      "source": [
        "#creating Empty list for appending the content of the data as each page will create a different content\n",
        "Popularity=[]\n",
        "Country_or_Region=[]\n",
        "Term=[]\n",
        "Fullform=[]\n",
        "Main_Category=[]\n",
        "Sub_Cat=[]\n",
        "number=0\n",
        "\n",
        "for i in range(ord(\"Y\"),ord(\"Z\")+1): #looping on the unicode value of A to Z\n",
        "  while number==True: \n",
        "        \n",
        "          try:\n",
        "          if i==0:\n",
        "            url='https://fullforms.com/full-forms/{chr(i)}/{number+1}'\n",
        "          else:\n",
        "            url = (f'https://fullforms.com/full-forms/{chr(i)}/{number+1}') #there is only change in the fullforms website that is character and number so made change according to the website\n",
        "            #url=\"https://fullforms.com/full-forms/A/81\"\n",
        "            page=requests.get(url) \n",
        "            soup=BeautifulSoup(page.text,\"lxml\")\n",
        "\n",
        "            #at the end of the page the content may be empty which throws errors and the execution stop so use exeption handling.\n",
        "            table=soup.find(\"table\",{\"class\":\"index-table\"}) #extracting the table data using table tag using beautiful soup\n",
        "\n",
        "            Pop=[pop[\"style\"] for pop in table.find_all(\"div\",title=\"Popularity\",style=True)] #popularity width is extracted from the poularity bar the width of the bar is considered as the popularity of the data\n",
        "            popularity=Popularity.append([pop.strip(\"%\") for pop in Pop]) #removing the % from list and appending in list\n",
        "\n",
        "\n",
        "\n",
        "            country_or_Region=Country_or_Region.append([rows.find(\"img\")[\"title\"] for rows in table.find_all(\"tr\")[1:]]) #for country and region scraping the title of the page\n",
        "\n",
        "\n",
        "\n",
        "\n",
        "            term=Term.append([term.find(\"a\").string for term in table.find_all(\"td\",class_=\"tT tblLink1\")]) #Extracting the Term that is alphabet using table data tag\n",
        "\n",
        "\n",
        "            fullform=Fullform.append([full_forms.find(\"a\").string for full_forms in table.find_all(\"td\",class_=\"tD tblLink2\")]) #Getting the full forms\n",
        "            Main_Category_and_subcategory=[category.text for category in table.find_all(\"td\",class_=\"tCat rowlink2\",colspan=True)]  #the Main Category and subcategory are extracted in one as it seperated by a symbol we need to split from there\n",
        "\n",
        "            main_Category=Main_Category.append([cat.split(\" » \")[0] for cat in Main_Category_and_subcategory]) #code for appending to Main Category\n",
        "            sub_Cat=Sub_Cat.append([subcat.split(\" » \")[1] for subcat in Main_Category_and_subcategory]) #code for appending SubCategory\n",
        "\n",
        "except AttributeError:\n",
        "          \n",
        "      \n",
        "            break\n",
        "          \n",
        "\n",
        "    \n"
      ],
      "execution_count": null,
      "outputs": []
    },
    {
      "cell_type": "code",
      "metadata": {
        "id": "46Uo3xfyaTLo"
      },
      "source": [
        "#As the above code generates the nested list we need to make the same into one list hence by using the list comprehension we can convert the list of list into one list\n",
        "Popularity=[(item).strip(\"width:\") for items in Popularity for item in items]\n",
        "\n",
        "Country_or_Region=[item for items in Country_or_Region for item in items]\n",
        "Term=[item for items in Term for item in items]\n",
        "Fullform=[item for items in Fullform for item in items]\n",
        "Main_Category=[item for items in Main_Category for item in items]\n",
        "Sub_Cat=[item for items in Sub_Cat for item in items]\n"
      ],
      "execution_count": null,
      "outputs": []
    },
    {
      "cell_type": "code",
      "metadata": {
        "colab": {
          "base_uri": "https://localhost:8080/"
        },
        "id": "xIrUmyIjAPJW",
        "outputId": "164cfade-a3af-497f-e0af-f25f2c978030"
      },
      "source": [
        "len(Main_Category)"
      ],
      "execution_count": null,
      "outputs": [
        {
          "output_type": "execute_result",
          "data": {
            "text/plain": [
              "0"
            ]
          },
          "metadata": {
            "tags": []
          },
          "execution_count": 82
        }
      ]
    },
    {
      "cell_type": "code",
      "metadata": {
        "colab": {
          "base_uri": "https://localhost:8080/",
          "height": 803
        },
        "id": "P7KZwP_waXED",
        "outputId": "e4a4b953-a36a-4b90-c04b-cf842df79207"
      },
      "source": [
        "#getting the data into data Frame\n",
        "Full_forms=pd.DataFrame(list(zip(Popularity,Country_or_Region,Term,Fullform,Main_Category,Sub_Cat)),columns=headers)\n",
        "Full_forms"
      ],
      "execution_count": null,
      "outputs": [
        {
          "output_type": "execute_result",
          "data": {
            "text/html": [
              "<div>\n",
              "<style scoped>\n",
              "    .dataframe tbody tr th:only-of-type {\n",
              "        vertical-align: middle;\n",
              "    }\n",
              "\n",
              "    .dataframe tbody tr th {\n",
              "        vertical-align: top;\n",
              "    }\n",
              "\n",
              "    .dataframe thead th {\n",
              "        text-align: right;\n",
              "    }\n",
              "</style>\n",
              "<table border=\"1\" class=\"dataframe\">\n",
              "  <thead>\n",
              "    <tr style=\"text-align: right;\">\n",
              "      <th></th>\n",
              "      <th>Popularity</th>\n",
              "      <th>Country/ Region</th>\n",
              "      <th>Term</th>\n",
              "      <th>Full Form | Definition | Meaning</th>\n",
              "      <th>Main Category</th>\n",
              "      <th>Subcategory</th>\n",
              "    </tr>\n",
              "  </thead>\n",
              "  <tbody>\n",
              "    <tr>\n",
              "      <th>0</th>\n",
              "      <td>40</td>\n",
              "      <td>Worldwide</td>\n",
              "      <td>YMMV</td>\n",
              "      <td>Your Mileage May Vary</td>\n",
              "      <td>Miscellaneous</td>\n",
              "      <td>Chat &amp; Messaging</td>\n",
              "    </tr>\n",
              "    <tr>\n",
              "      <th>1</th>\n",
              "      <td>30</td>\n",
              "      <td>Worldwide</td>\n",
              "      <td>YMMV</td>\n",
              "      <td>Yam Mild Mosaic Virus</td>\n",
              "      <td>Trees &amp; Plants</td>\n",
              "      <td>Pathogens &amp; Diseases</td>\n",
              "    </tr>\n",
              "    <tr>\n",
              "      <th>2</th>\n",
              "      <td>50</td>\n",
              "      <td>Worldwide</td>\n",
              "      <td>YNAB</td>\n",
              "      <td>You Need a Budget</td>\n",
              "      <td>Business</td>\n",
              "      <td>Products</td>\n",
              "    </tr>\n",
              "    <tr>\n",
              "      <th>3</th>\n",
              "      <td>70</td>\n",
              "      <td>Worldwide</td>\n",
              "      <td>YOLO</td>\n",
              "      <td>You Only Live Once</td>\n",
              "      <td>Miscellaneous</td>\n",
              "      <td>Chat &amp; Messaging</td>\n",
              "    </tr>\n",
              "    <tr>\n",
              "      <th>4</th>\n",
              "      <td>30</td>\n",
              "      <td>Worldwide</td>\n",
              "      <td>YONO</td>\n",
              "      <td>You Only Need One</td>\n",
              "      <td>Computing</td>\n",
              "      <td>Software &amp; Applications</td>\n",
              "    </tr>\n",
              "    <tr>\n",
              "      <th>5</th>\n",
              "      <td>40</td>\n",
              "      <td>Worldwide</td>\n",
              "      <td>YOUCAT</td>\n",
              "      <td>Youth Catechism of the Catholic Church</td>\n",
              "      <td>News &amp; Entertainment</td>\n",
              "      <td>Journals &amp; Publications</td>\n",
              "    </tr>\n",
              "    <tr>\n",
              "      <th>6</th>\n",
              "      <td>100</td>\n",
              "      <td>Worldwide</td>\n",
              "      <td>YouTube</td>\n",
              "      <td>You + Tube</td>\n",
              "      <td>Computing</td>\n",
              "      <td>Internet</td>\n",
              "    </tr>\n",
              "    <tr>\n",
              "      <th>7</th>\n",
              "      <td>80</td>\n",
              "      <td>Worldwide</td>\n",
              "      <td>YoY</td>\n",
              "      <td>Year over Year</td>\n",
              "      <td>Business</td>\n",
              "      <td>Business Terms</td>\n",
              "    </tr>\n",
              "    <tr>\n",
              "      <th>8</th>\n",
              "      <td>20</td>\n",
              "      <td>Israel</td>\n",
              "      <td>YOY</td>\n",
              "      <td>Yeshivat Ohr Yerushalayim</td>\n",
              "      <td>Academic &amp; Science</td>\n",
              "      <td>Universities &amp; Institutions</td>\n",
              "    </tr>\n",
              "    <tr>\n",
              "      <th>9</th>\n",
              "      <td>90</td>\n",
              "      <td>Worldwide</td>\n",
              "      <td>YP</td>\n",
              "      <td>Yellow Pages</td>\n",
              "      <td>News &amp; Entertainment</td>\n",
              "      <td>Journals &amp; Publications</td>\n",
              "    </tr>\n",
              "    <tr>\n",
              "      <th>10</th>\n",
              "      <td>50</td>\n",
              "      <td>United Kingdom</td>\n",
              "      <td>YP</td>\n",
              "      <td>Yorkshire Post</td>\n",
              "      <td>News &amp; Entertainment</td>\n",
              "      <td>Journals &amp; Publications</td>\n",
              "    </tr>\n",
              "    <tr>\n",
              "      <th>11</th>\n",
              "      <td>30</td>\n",
              "      <td>Worldwide</td>\n",
              "      <td>YRC</td>\n",
              "      <td>Yellow Roadway Corporation</td>\n",
              "      <td>Business</td>\n",
              "      <td>Companies &amp; Corporations</td>\n",
              "    </tr>\n",
              "    <tr>\n",
              "      <th>12</th>\n",
              "      <td>20</td>\n",
              "      <td>Japan</td>\n",
              "      <td>YRC</td>\n",
              "      <td>Yokohama Rubber Company</td>\n",
              "      <td>Business</td>\n",
              "      <td>Companies &amp; Corporations</td>\n",
              "    </tr>\n",
              "    <tr>\n",
              "      <th>13</th>\n",
              "      <td>20</td>\n",
              "      <td>United States</td>\n",
              "      <td>YRC</td>\n",
              "      <td>York Railway</td>\n",
              "      <td>Transport &amp; Travel</td>\n",
              "      <td>Rail Transport</td>\n",
              "    </tr>\n",
              "    <tr>\n",
              "      <th>14</th>\n",
              "      <td>20</td>\n",
              "      <td>Worldwide</td>\n",
              "      <td>YRC</td>\n",
              "      <td>Youth Red Cross</td>\n",
              "      <td>Associations &amp; Organizations</td>\n",
              "      <td>Social Welfare Organizations</td>\n",
              "    </tr>\n",
              "    <tr>\n",
              "      <th>15</th>\n",
              "      <td>60</td>\n",
              "      <td>India</td>\n",
              "      <td>YRF</td>\n",
              "      <td>Yash Raj Films</td>\n",
              "      <td>Business</td>\n",
              "      <td>Companies &amp; Corporations</td>\n",
              "    </tr>\n",
              "    <tr>\n",
              "      <th>16</th>\n",
              "      <td>40</td>\n",
              "      <td>Canada</td>\n",
              "      <td>YRF</td>\n",
              "      <td>Cartwright Airport</td>\n",
              "      <td>Transport &amp; Travel</td>\n",
              "      <td>Airport Codes</td>\n",
              "    </tr>\n",
              "    <tr>\n",
              "      <th>17</th>\n",
              "      <td>10</td>\n",
              "      <td>Israel</td>\n",
              "      <td>YRF</td>\n",
              "      <td>Youth Renewal Fund</td>\n",
              "      <td>Associations &amp; Organizations</td>\n",
              "      <td>Regional Organizations</td>\n",
              "    </tr>\n",
              "    <tr>\n",
              "      <th>18</th>\n",
              "      <td>90</td>\n",
              "      <td>Worldwide</td>\n",
              "      <td>YSL</td>\n",
              "      <td>Yves Saint Laurent</td>\n",
              "      <td>Business</td>\n",
              "      <td>Companies &amp; Corporations</td>\n",
              "    </tr>\n",
              "    <tr>\n",
              "      <th>19</th>\n",
              "      <td>40</td>\n",
              "      <td>Canada</td>\n",
              "      <td>YSL</td>\n",
              "      <td>St Leonard Airport</td>\n",
              "      <td>Transport &amp; Travel</td>\n",
              "      <td>Airport Codes</td>\n",
              "    </tr>\n",
              "    <tr>\n",
              "      <th>20</th>\n",
              "      <td>40</td>\n",
              "      <td>Worldwide</td>\n",
              "      <td>YSL</td>\n",
              "      <td>Yolk Syncytial Layer</td>\n",
              "      <td>Animal Kingdom</td>\n",
              "      <td>Aquatic Life</td>\n",
              "    </tr>\n",
              "    <tr>\n",
              "      <th>21</th>\n",
              "      <td>30</td>\n",
              "      <td>United Kingdom</td>\n",
              "      <td>YSL</td>\n",
              "      <td>Yarrow Shipbuilders Limited</td>\n",
              "      <td>Business</td>\n",
              "      <td>Companies &amp; Corporations</td>\n",
              "    </tr>\n",
              "    <tr>\n",
              "      <th>22</th>\n",
              "      <td>60</td>\n",
              "      <td>India</td>\n",
              "      <td>YSRCP</td>\n",
              "      <td>యువజన శ్రామిక రైతు కాంగ్రెస్ పార్టీ</td>\n",
              "      <td>Governmental</td>\n",
              "      <td>Politics</td>\n",
              "    </tr>\n",
              "    <tr>\n",
              "      <th>23</th>\n",
              "      <td>90</td>\n",
              "      <td>Worldwide</td>\n",
              "      <td>YT</td>\n",
              "      <td>YouTube</td>\n",
              "      <td>Computing</td>\n",
              "      <td>Websites</td>\n",
              "    </tr>\n",
              "    <tr>\n",
              "      <th>24</th>\n",
              "      <td>80</td>\n",
              "      <td>Canada</td>\n",
              "      <td>YT</td>\n",
              "      <td>Yukon</td>\n",
              "      <td>Regional</td>\n",
              "      <td>Postal Codes</td>\n",
              "    </tr>\n",
              "  </tbody>\n",
              "</table>\n",
              "</div>"
            ],
            "text/plain": [
              "   Popularity  ...                   Subcategory\n",
              "0          40  ...              Chat & Messaging\n",
              "1          30  ...          Pathogens & Diseases\n",
              "2          50  ...                      Products\n",
              "3          70  ...              Chat & Messaging\n",
              "4          30  ...       Software & Applications\n",
              "5          40  ...       Journals & Publications\n",
              "6         100  ...                      Internet\n",
              "7          80  ...                Business Terms\n",
              "8          20  ...   Universities & Institutions\n",
              "9          90  ...       Journals & Publications\n",
              "10         50  ...       Journals & Publications\n",
              "11         30  ...      Companies & Corporations\n",
              "12         20  ...      Companies & Corporations\n",
              "13         20  ...                Rail Transport\n",
              "14         20  ...  Social Welfare Organizations\n",
              "15         60  ...      Companies & Corporations\n",
              "16         40  ...                 Airport Codes\n",
              "17         10  ...        Regional Organizations\n",
              "18         90  ...      Companies & Corporations\n",
              "19         40  ...                 Airport Codes\n",
              "20         40  ...                  Aquatic Life\n",
              "21         30  ...      Companies & Corporations\n",
              "22         60  ...                      Politics\n",
              "23         90  ...                      Websites\n",
              "24         80  ...                  Postal Codes\n",
              "\n",
              "[25 rows x 6 columns]"
            ]
          },
          "metadata": {
            "tags": []
          },
          "execution_count": 61
        }
      ]
    },
    {
      "cell_type": "code",
      "metadata": {
        "colab": {
          "base_uri": "https://localhost:8080/",
          "height": 17
        },
        "id": "UJX9TWMMkZoX",
        "outputId": "fe3472a7-b273-46ca-d3e1-261b22491f73"
      },
      "source": [
        "#saving the dataframe in csv and downloading it\n",
        "from google.colab import files\n",
        "Full_forms.to_csv('full_forms.csv') \n",
        "files.download('full_forms.csv')"
      ],
      "execution_count": null,
      "outputs": [
        {
          "output_type": "display_data",
          "data": {
            "application/javascript": [
              "\n",
              "    async function download(id, filename, size) {\n",
              "      if (!google.colab.kernel.accessAllowed) {\n",
              "        return;\n",
              "      }\n",
              "      const div = document.createElement('div');\n",
              "      const label = document.createElement('label');\n",
              "      label.textContent = `Downloading \"${filename}\": `;\n",
              "      div.appendChild(label);\n",
              "      const progress = document.createElement('progress');\n",
              "      progress.max = size;\n",
              "      div.appendChild(progress);\n",
              "      document.body.appendChild(div);\n",
              "\n",
              "      const buffers = [];\n",
              "      let downloaded = 0;\n",
              "\n",
              "      const channel = await google.colab.kernel.comms.open(id);\n",
              "      // Send a message to notify the kernel that we're ready.\n",
              "      channel.send({})\n",
              "\n",
              "      for await (const message of channel.messages) {\n",
              "        // Send a message to notify the kernel that we're ready.\n",
              "        channel.send({})\n",
              "        if (message.buffers) {\n",
              "          for (const buffer of message.buffers) {\n",
              "            buffers.push(buffer);\n",
              "            downloaded += buffer.byteLength;\n",
              "            progress.value = downloaded;\n",
              "          }\n",
              "        }\n",
              "      }\n",
              "      const blob = new Blob(buffers, {type: 'application/binary'});\n",
              "      const a = document.createElement('a');\n",
              "      a.href = window.URL.createObjectURL(blob);\n",
              "      a.download = filename;\n",
              "      div.appendChild(a);\n",
              "      a.click();\n",
              "      div.remove();\n",
              "    }\n",
              "  "
            ],
            "text/plain": [
              "<IPython.core.display.Javascript object>"
            ]
          },
          "metadata": {
            "tags": []
          }
        },
        {
          "output_type": "display_data",
          "data": {
            "application/javascript": [
              "download(\"download_f9bc5b64-0064-4fb3-9c5c-742f1e564f24\", \"full_forms.csv\", 1887836)"
            ],
            "text/plain": [
              "<IPython.core.display.Javascript object>"
            ]
          },
          "metadata": {
            "tags": []
          }
        }
      ]
    },
    {
      "cell_type": "markdown",
      "metadata": {
        "id": "8IbO4VkK890a"
      },
      "source": [
        "# New Section"
      ]
    },
    {
      "cell_type": "code",
      "metadata": {
        "id": "MelDlZpxwfEc"
      },
      "source": [
        "url=\"https://fullforms.com/full-forms/A/81\"\n",
        "page=requests.get(url) \n",
        "soup=BeautifulSoup(page.text,\"lxml\")\n",
        "  #at the end of the page the content may be empty which throws errors and the execution stop so use exeption handling.\n",
        "table=soup.find(\"table\",{\"class\":\"index-table\"}) #extracting the table data using table tag using beautiful soup"
      ],
      "execution_count": null,
      "outputs": []
    },
    {
      "cell_type": "code",
      "metadata": {
        "id": "_XywQzxFeCNH"
      },
      "source": [
        "table"
      ],
      "execution_count": null,
      "outputs": []
    },
    {
      "cell_type": "code",
      "metadata": {
        "id": "bZEY1mLLeG9i"
      },
      "source": [
        ""
      ],
      "execution_count": null,
      "outputs": []
    }
  ]
}